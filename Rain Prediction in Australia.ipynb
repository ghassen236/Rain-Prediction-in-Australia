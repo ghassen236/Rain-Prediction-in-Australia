{
 "cells": [
  {
   "cell_type": "markdown",
   "id": "ac16209b",
   "metadata": {},
   "source": [
    "\n",
    "<h1 style=\"color : red; text-align:center; font-size:40px;\">Final Project: Classification with Python: Rain Prediction in Australia</h1>"
   ]
  },
  {
   "cell_type": "code",
   "execution_count": 2,
   "id": "32281bf1",
   "metadata": {},
   "outputs": [
    {
     "name": "stderr",
     "output_type": "stream",
     "text": [
      "C:\\Users\\USER\\anaconda3\\lib\\site-packages\\scipy\\__init__.py:146: UserWarning: A NumPy version >=1.16.5 and <1.23.0 is required for this version of SciPy (detected version 1.26.4\n",
      "  warnings.warn(f\"A NumPy version >={np_minversion} and <{np_maxversion}\"\n"
     ]
    }
   ],
   "source": [
    "import pandas as pd\n",
    "from sklearn.linear_model import LogisticRegression\n",
    "from sklearn.linear_model import LinearRegression\n",
    "from sklearn import preprocessing\n",
    "import numpy as np\n",
    "from sklearn.neighbors import KNeighborsClassifier\n",
    "from sklearn.model_selection import train_test_split\n",
    "from sklearn.neighbors import KNeighborsClassifier\n",
    "from sklearn.tree import DecisionTreeClassifier\n",
    "from sklearn import svm\n",
    "from sklearn.metrics import jaccard_score\n",
    "from sklearn.metrics import f1_score\n",
    "from sklearn.metrics import log_loss\n",
    "from sklearn.metrics import confusion_matrix, accuracy_score\n",
    "import sklearn.metrics as metrics"
   ]
  },
  {
   "cell_type": "code",
   "execution_count": 3,
   "id": "5c396c02",
   "metadata": {},
   "outputs": [
    {
     "data": {
      "text/html": [
       "<div>\n",
       "<style scoped>\n",
       "    .dataframe tbody tr th:only-of-type {\n",
       "        vertical-align: middle;\n",
       "    }\n",
       "\n",
       "    .dataframe tbody tr th {\n",
       "        vertical-align: top;\n",
       "    }\n",
       "\n",
       "    .dataframe thead th {\n",
       "        text-align: right;\n",
       "    }\n",
       "</style>\n",
       "<table border=\"1\" class=\"dataframe\">\n",
       "  <thead>\n",
       "    <tr style=\"text-align: right;\">\n",
       "      <th></th>\n",
       "      <th>Date</th>\n",
       "      <th>MinTemp</th>\n",
       "      <th>MaxTemp</th>\n",
       "      <th>Rainfall</th>\n",
       "      <th>Evaporation</th>\n",
       "      <th>Sunshine</th>\n",
       "      <th>WindGustDir</th>\n",
       "      <th>WindGustSpeed</th>\n",
       "      <th>WindDir9am</th>\n",
       "      <th>WindDir3pm</th>\n",
       "      <th>...</th>\n",
       "      <th>Humidity9am</th>\n",
       "      <th>Humidity3pm</th>\n",
       "      <th>Pressure9am</th>\n",
       "      <th>Pressure3pm</th>\n",
       "      <th>Cloud9am</th>\n",
       "      <th>Cloud3pm</th>\n",
       "      <th>Temp9am</th>\n",
       "      <th>Temp3pm</th>\n",
       "      <th>RainToday</th>\n",
       "      <th>RainTomorrow</th>\n",
       "    </tr>\n",
       "  </thead>\n",
       "  <tbody>\n",
       "    <tr>\n",
       "      <th>0</th>\n",
       "      <td>2/1/2008</td>\n",
       "      <td>19.5</td>\n",
       "      <td>22.4</td>\n",
       "      <td>15.6</td>\n",
       "      <td>6.2</td>\n",
       "      <td>0.0</td>\n",
       "      <td>W</td>\n",
       "      <td>41</td>\n",
       "      <td>S</td>\n",
       "      <td>SSW</td>\n",
       "      <td>...</td>\n",
       "      <td>92</td>\n",
       "      <td>84</td>\n",
       "      <td>1017.6</td>\n",
       "      <td>1017.4</td>\n",
       "      <td>8</td>\n",
       "      <td>8</td>\n",
       "      <td>20.7</td>\n",
       "      <td>20.9</td>\n",
       "      <td>Yes</td>\n",
       "      <td>Yes</td>\n",
       "    </tr>\n",
       "    <tr>\n",
       "      <th>1</th>\n",
       "      <td>2/2/2008</td>\n",
       "      <td>19.5</td>\n",
       "      <td>25.6</td>\n",
       "      <td>6.0</td>\n",
       "      <td>3.4</td>\n",
       "      <td>2.7</td>\n",
       "      <td>W</td>\n",
       "      <td>41</td>\n",
       "      <td>W</td>\n",
       "      <td>E</td>\n",
       "      <td>...</td>\n",
       "      <td>83</td>\n",
       "      <td>73</td>\n",
       "      <td>1017.9</td>\n",
       "      <td>1016.4</td>\n",
       "      <td>7</td>\n",
       "      <td>7</td>\n",
       "      <td>22.4</td>\n",
       "      <td>24.8</td>\n",
       "      <td>Yes</td>\n",
       "      <td>Yes</td>\n",
       "    </tr>\n",
       "    <tr>\n",
       "      <th>2</th>\n",
       "      <td>2/3/2008</td>\n",
       "      <td>21.6</td>\n",
       "      <td>24.5</td>\n",
       "      <td>6.6</td>\n",
       "      <td>2.4</td>\n",
       "      <td>0.1</td>\n",
       "      <td>W</td>\n",
       "      <td>41</td>\n",
       "      <td>ESE</td>\n",
       "      <td>ESE</td>\n",
       "      <td>...</td>\n",
       "      <td>88</td>\n",
       "      <td>86</td>\n",
       "      <td>1016.7</td>\n",
       "      <td>1015.6</td>\n",
       "      <td>7</td>\n",
       "      <td>8</td>\n",
       "      <td>23.5</td>\n",
       "      <td>23.0</td>\n",
       "      <td>Yes</td>\n",
       "      <td>Yes</td>\n",
       "    </tr>\n",
       "    <tr>\n",
       "      <th>3</th>\n",
       "      <td>2/4/2008</td>\n",
       "      <td>20.2</td>\n",
       "      <td>22.8</td>\n",
       "      <td>18.8</td>\n",
       "      <td>2.2</td>\n",
       "      <td>0.0</td>\n",
       "      <td>W</td>\n",
       "      <td>41</td>\n",
       "      <td>NNE</td>\n",
       "      <td>E</td>\n",
       "      <td>...</td>\n",
       "      <td>83</td>\n",
       "      <td>90</td>\n",
       "      <td>1014.2</td>\n",
       "      <td>1011.8</td>\n",
       "      <td>8</td>\n",
       "      <td>8</td>\n",
       "      <td>21.4</td>\n",
       "      <td>20.9</td>\n",
       "      <td>Yes</td>\n",
       "      <td>Yes</td>\n",
       "    </tr>\n",
       "    <tr>\n",
       "      <th>4</th>\n",
       "      <td>2/5/2008</td>\n",
       "      <td>19.7</td>\n",
       "      <td>25.7</td>\n",
       "      <td>77.4</td>\n",
       "      <td>4.8</td>\n",
       "      <td>0.0</td>\n",
       "      <td>W</td>\n",
       "      <td>41</td>\n",
       "      <td>NNE</td>\n",
       "      <td>W</td>\n",
       "      <td>...</td>\n",
       "      <td>88</td>\n",
       "      <td>74</td>\n",
       "      <td>1008.3</td>\n",
       "      <td>1004.8</td>\n",
       "      <td>8</td>\n",
       "      <td>8</td>\n",
       "      <td>22.5</td>\n",
       "      <td>25.5</td>\n",
       "      <td>Yes</td>\n",
       "      <td>Yes</td>\n",
       "    </tr>\n",
       "  </tbody>\n",
       "</table>\n",
       "<p>5 rows × 22 columns</p>\n",
       "</div>"
      ],
      "text/plain": [
       "       Date  MinTemp  MaxTemp  Rainfall  Evaporation  Sunshine WindGustDir  \\\n",
       "0  2/1/2008     19.5     22.4      15.6          6.2       0.0           W   \n",
       "1  2/2/2008     19.5     25.6       6.0          3.4       2.7           W   \n",
       "2  2/3/2008     21.6     24.5       6.6          2.4       0.1           W   \n",
       "3  2/4/2008     20.2     22.8      18.8          2.2       0.0           W   \n",
       "4  2/5/2008     19.7     25.7      77.4          4.8       0.0           W   \n",
       "\n",
       "   WindGustSpeed WindDir9am WindDir3pm  ...  Humidity9am  Humidity3pm  \\\n",
       "0             41          S        SSW  ...           92           84   \n",
       "1             41          W          E  ...           83           73   \n",
       "2             41        ESE        ESE  ...           88           86   \n",
       "3             41        NNE          E  ...           83           90   \n",
       "4             41        NNE          W  ...           88           74   \n",
       "\n",
       "   Pressure9am  Pressure3pm  Cloud9am  Cloud3pm  Temp9am  Temp3pm  RainToday  \\\n",
       "0       1017.6       1017.4         8         8     20.7     20.9        Yes   \n",
       "1       1017.9       1016.4         7         7     22.4     24.8        Yes   \n",
       "2       1016.7       1015.6         7         8     23.5     23.0        Yes   \n",
       "3       1014.2       1011.8         8         8     21.4     20.9        Yes   \n",
       "4       1008.3       1004.8         8         8     22.5     25.5        Yes   \n",
       "\n",
       "   RainTomorrow  \n",
       "0           Yes  \n",
       "1           Yes  \n",
       "2           Yes  \n",
       "3           Yes  \n",
       "4           Yes  \n",
       "\n",
       "[5 rows x 22 columns]"
      ]
     },
     "execution_count": 3,
     "metadata": {},
     "output_type": "execute_result"
    }
   ],
   "source": [
    "import requests\n",
    "import pandas as pd\n",
    "\n",
    "def download(url, filename):\n",
    "    response = requests.get(url)\n",
    "    if response.status_code == 200:\n",
    "        with open(filename, \"wb\") as f:\n",
    "            f.write(response.content)\n",
    "\n",
    "# Specify the URL and filename\n",
    "url = 'https://cf-courses-data.s3.us.cloud-object-storage.appdomain.cloud/IBMDeveloperSkillsNetwork-ML0101EN-SkillUp/labs/ML-FinalAssignment/Weather_Data.csv'\n",
    "filename = \"Weather_Data.csv\"\n",
    "\n",
    "# Download the file\n",
    "#download(url, filename)\n",
    "\n",
    "# Read the CSV file into a DataFrame\n",
    "df = pd.read_csv(filename)\n",
    "\n",
    "# Display the first few rows of the DataFrame\n",
    "df.head()"
   ]
  },
  {
   "cell_type": "code",
   "execution_count": 4,
   "id": "d6ca36fc",
   "metadata": {},
   "outputs": [
    {
     "name": "stdout",
     "output_type": "stream",
     "text": [
      "(3271, 22)\n",
      "Index(['Date', 'MinTemp', 'MaxTemp', 'Rainfall', 'Evaporation', 'Sunshine',\n",
      "       'WindGustDir', 'WindGustSpeed', 'WindDir9am', 'WindDir3pm',\n",
      "       'WindSpeed9am', 'WindSpeed3pm', 'Humidity9am', 'Humidity3pm',\n",
      "       'Pressure9am', 'Pressure3pm', 'Cloud9am', 'Cloud3pm', 'Temp9am',\n",
      "       'Temp3pm', 'RainToday', 'RainTomorrow'],\n",
      "      dtype='object')\n",
      "Date              object\n",
      "MinTemp          float64\n",
      "MaxTemp          float64\n",
      "Rainfall         float64\n",
      "Evaporation      float64\n",
      "Sunshine         float64\n",
      "WindGustDir       object\n",
      "WindGustSpeed      int64\n",
      "WindDir9am        object\n",
      "WindDir3pm        object\n",
      "WindSpeed9am       int64\n",
      "WindSpeed3pm       int64\n",
      "Humidity9am        int64\n",
      "Humidity3pm        int64\n",
      "Pressure9am      float64\n",
      "Pressure3pm      float64\n",
      "Cloud9am           int64\n",
      "Cloud3pm           int64\n",
      "Temp9am          float64\n",
      "Temp3pm          float64\n",
      "RainToday         object\n",
      "RainTomorrow      object\n",
      "dtype: object\n",
      "       Date  MinTemp  MaxTemp  Rainfall  Evaporation  Sunshine  WindGustDir  \\\n",
      "0     False    False    False     False        False     False        False   \n",
      "1     False    False    False     False        False     False        False   \n",
      "2     False    False    False     False        False     False        False   \n",
      "3     False    False    False     False        False     False        False   \n",
      "4     False    False    False     False        False     False        False   \n",
      "...     ...      ...      ...       ...          ...       ...          ...   \n",
      "3266  False    False    False     False        False     False        False   \n",
      "3267  False    False    False     False        False     False        False   \n",
      "3268  False    False    False     False        False     False        False   \n",
      "3269  False    False    False     False        False     False        False   \n",
      "3270  False    False    False     False        False     False        False   \n",
      "\n",
      "      WindGustSpeed  WindDir9am  WindDir3pm  ...  Humidity9am  Humidity3pm  \\\n",
      "0             False       False       False  ...        False        False   \n",
      "1             False       False       False  ...        False        False   \n",
      "2             False       False       False  ...        False        False   \n",
      "3             False       False       False  ...        False        False   \n",
      "4             False       False       False  ...        False        False   \n",
      "...             ...         ...         ...  ...          ...          ...   \n",
      "3266          False       False       False  ...        False        False   \n",
      "3267          False       False       False  ...        False        False   \n",
      "3268          False       False       False  ...        False        False   \n",
      "3269          False       False       False  ...        False        False   \n",
      "3270          False       False       False  ...        False        False   \n",
      "\n",
      "      Pressure9am  Pressure3pm  Cloud9am  Cloud3pm  Temp9am  Temp3pm  \\\n",
      "0           False        False     False     False    False    False   \n",
      "1           False        False     False     False    False    False   \n",
      "2           False        False     False     False    False    False   \n",
      "3           False        False     False     False    False    False   \n",
      "4           False        False     False     False    False    False   \n",
      "...           ...          ...       ...       ...      ...      ...   \n",
      "3266        False        False     False     False    False    False   \n",
      "3267        False        False     False     False    False    False   \n",
      "3268        False        False     False     False    False    False   \n",
      "3269        False        False     False     False    False    False   \n",
      "3270        False        False     False     False    False    False   \n",
      "\n",
      "      RainToday  RainTomorrow  \n",
      "0         False         False  \n",
      "1         False         False  \n",
      "2         False         False  \n",
      "3         False         False  \n",
      "4         False         False  \n",
      "...         ...           ...  \n",
      "3266      False         False  \n",
      "3267      False         False  \n",
      "3268      False         False  \n",
      "3269      False         False  \n",
      "3270      False         False  \n",
      "\n",
      "[3271 rows x 22 columns]\n",
      "Date             0\n",
      "MinTemp          0\n",
      "MaxTemp          0\n",
      "Rainfall         0\n",
      "Evaporation      0\n",
      "Sunshine         0\n",
      "WindGustDir      0\n",
      "WindGustSpeed    0\n",
      "WindDir9am       0\n",
      "WindDir3pm       0\n",
      "WindSpeed9am     0\n",
      "WindSpeed3pm     0\n",
      "Humidity9am      0\n",
      "Humidity3pm      0\n",
      "Pressure9am      0\n",
      "Pressure3pm      0\n",
      "Cloud9am         0\n",
      "Cloud3pm         0\n",
      "Temp9am          0\n",
      "Temp3pm          0\n",
      "RainToday        0\n",
      "RainTomorrow     0\n",
      "dtype: int64\n",
      "0\n"
     ]
    }
   ],
   "source": [
    "print (df.shape)\n",
    "print (df.columns)\n",
    "print (df.dtypes)\n",
    "print (df.isnull())\n",
    "print (df.isnull().sum())\n",
    "print (df.duplicated().sum())"
   ]
  },
  {
   "cell_type": "markdown",
   "id": "1cce2afb",
   "metadata": {},
   "source": [
    "### Data Preprocessing\n"
   ]
  },
  {
   "cell_type": "markdown",
   "id": "4aeaee03",
   "metadata": {},
   "source": [
    "#### One Hot Encoding\n"
   ]
  },
  {
   "cell_type": "code",
   "execution_count": 5,
   "id": "e8919af2",
   "metadata": {},
   "outputs": [],
   "source": [
    "df_sydney_processed = pd.get_dummies(data=df, columns=['RainToday', 'WindGustDir', 'WindDir9am', 'WindDir3pm'])"
   ]
  },
  {
   "cell_type": "code",
   "execution_count": 6,
   "id": "0451da15",
   "metadata": {},
   "outputs": [],
   "source": [
    "df_sydney_processed.replace(['No', 'Yes'], [0,1], inplace=True)"
   ]
  },
  {
   "cell_type": "markdown",
   "id": "54779b1c",
   "metadata": {},
   "source": [
    "### Training Data and Test Data\n"
   ]
  },
  {
   "cell_type": "code",
   "execution_count": 7,
   "id": "e0bb7cb6",
   "metadata": {},
   "outputs": [],
   "source": [
    "df_sydney_processed.drop('Date',axis=1,inplace=True)"
   ]
  },
  {
   "cell_type": "code",
   "execution_count": 8,
   "id": "d500678a",
   "metadata": {},
   "outputs": [],
   "source": [
    "df_sydney_processed = df_sydney_processed.astype(float)"
   ]
  },
  {
   "cell_type": "code",
   "execution_count": 9,
   "id": "b2d9651c",
   "metadata": {},
   "outputs": [],
   "source": [
    "features = df_sydney_processed.drop(columns='RainTomorrow', axis=1)\n",
    "Y = df_sydney_processed['RainTomorrow']"
   ]
  },
  {
   "cell_type": "markdown",
   "id": "8da95f24",
   "metadata": {},
   "source": [
    "### Linear Regression\n"
   ]
  },
  {
   "cell_type": "code",
   "execution_count": 10,
   "id": "69f32b9b",
   "metadata": {},
   "outputs": [
    {
     "name": "stdout",
     "output_type": "stream",
     "text": [
      "X_train shape: (2616, 66)\n",
      "X_test shape: (655, 66)\n",
      "Y_train shape: (2616,)\n",
      "Y_test shape: (655,)\n"
     ]
    }
   ],
   "source": [
    "\n",
    "# Split the data into training and testing sets\n",
    "X_train, X_test, Y_train, Y_test = train_test_split(features, Y, test_size=0.2, random_state=10)\n",
    "\n",
    "# Output the shapes of the resulting datasets to confirm the split\n",
    "print(\"X_train shape:\", X_train.shape)\n",
    "print(\"X_test shape:\", X_test.shape)\n",
    "print(\"Y_train shape:\", Y_train.shape)\n",
    "print(\"Y_test shape:\", Y_test.shape)"
   ]
  },
  {
   "cell_type": "code",
   "execution_count": 11,
   "id": "e88463cc",
   "metadata": {},
   "outputs": [
    {
     "name": "stdout",
     "output_type": "stream",
     "text": [
      "Coefficients: [-2.36957665e-02  1.30190632e-02  7.27063138e-04  6.49163729e-03\n",
      " -3.51704830e-02  4.23570820e-03  1.82855025e-03  7.95969014e-04\n",
      "  9.58102602e-04  8.55832944e-03  7.70017211e-03 -9.24551721e-03\n",
      " -8.86750977e-03  1.00422875e-02  1.44680588e-02 -3.49497526e-03\n",
      "  6.66760762e+10  6.66760762e+10 -1.99988599e+10 -1.99988599e+10\n",
      " -1.99988599e+10 -1.99988599e+10 -1.99988599e+10 -1.99988599e+10\n",
      " -1.99988599e+10 -1.99988599e+10 -1.99988599e+10 -1.99988599e+10\n",
      " -1.99988599e+10 -1.99988599e+10 -1.99988599e+10 -1.99988599e+10\n",
      " -1.99988599e+10 -1.99988599e+10  1.06103041e+10  1.06103041e+10\n",
      "  1.06103041e+10  1.06103041e+10  1.06103041e+10  1.06103041e+10\n",
      "  1.06103041e+10  1.06103041e+10  1.06103041e+10  1.06103041e+10\n",
      "  1.06103041e+10  1.06103041e+10  1.06103041e+10  1.06103041e+10\n",
      "  1.06103041e+10  1.06103041e+10  5.02522653e+09  5.02522653e+09\n",
      "  5.02522653e+09  5.02522653e+09  5.02522653e+09  5.02522653e+09\n",
      "  5.02522653e+09  5.02522653e+09  5.02522653e+09  5.02522653e+09\n",
      "  5.02522653e+09  5.02522653e+09  5.02522653e+09  5.02522653e+09\n",
      "  5.02522653e+09  5.02522653e+09]\n",
      "Intercept: -62312746938.707\n"
     ]
    }
   ],
   "source": [
    "# Create the Linear Regression model\n",
    "LinearReg = LinearRegression()\n",
    "\n",
    "# Train the model using the training data\n",
    "LinearReg.fit(X_train, Y_train)\n",
    "\n",
    "# Output the coefficients and intercept of the trained model\n",
    "print(\"Coefficients:\", LinearReg.coef_)\n",
    "print(\"Intercept:\", LinearReg.intercept_)"
   ]
  },
  {
   "cell_type": "code",
   "execution_count": 12,
   "id": "f9e34c2f",
   "metadata": {},
   "outputs": [
    {
     "name": "stdout",
     "output_type": "stream",
     "text": [
      "[ 1.31690979e-01  2.76084900e-01  9.78088379e-01  2.87490845e-01\n",
      "  1.32423401e-01  4.60350037e-01  3.56773376e-01  8.56437683e-01\n",
      "  6.75109863e-01  3.81927490e-02  4.79125977e-03  2.81158447e-01\n",
      "  3.39179993e-01  7.81021118e-02  6.25839233e-02  5.64392090e-01\n",
      " -6.16149902e-02  5.24070740e-01  1.53686523e-01  3.59664917e-01\n",
      "  6.04476929e-02  9.03396606e-01  4.67376709e-01  2.03475952e-01\n",
      " -7.10220337e-02  3.83827209e-01  5.36193848e-01 -2.28729248e-02\n",
      "  6.40007019e-01 -9.57183838e-02  3.78135681e-01  1.20254517e-01\n",
      " -1.81274414e-02  5.53588867e-02  5.63552856e-01  1.06295776e+00\n",
      " -6.88171387e-03  5.14503479e-01 -8.83178711e-02  6.91680908e-02\n",
      "  2.44216919e-02  8.71612549e-01  2.44758606e-01  3.94699097e-01\n",
      "  2.67539978e-01  4.46769714e-01 -4.76303101e-02  1.89506531e-01\n",
      "  7.76649475e-01  1.57630920e-01  3.89099121e-03 -5.19485474e-02\n",
      "  2.07344055e-01 -2.07916260e-01 -7.61108398e-02  2.49534607e-01\n",
      "  2.79281616e-01  6.02775574e-01  6.29508972e-01  4.90798950e-01\n",
      "  5.65185547e-02  1.05400085e-01  6.69853210e-01  7.64854431e-01\n",
      "  9.84649658e-02 -6.33087158e-02  4.13871765e-01  7.25860596e-02\n",
      "  2.49885559e-01  2.56408691e-01  3.77578735e-02 -6.88400269e-02\n",
      "  3.48167419e-01  1.73011780e-01  4.15412903e-01 -7.24792480e-02\n",
      "  3.41201782e-01  1.87026978e-01 -1.54907227e-01  7.99865723e-01\n",
      "  2.32398987e-01  2.37373352e-01  2.56225586e-01  1.03416443e-01\n",
      "  6.20727539e-01  1.29638672e-01  3.71490479e-01  4.83139038e-01\n",
      "  3.08219910e-01  1.19415283e-01  5.48553467e-02  1.12785339e-01\n",
      " -1.62414551e-01 -1.57974243e-01  7.28225708e-02  7.76268005e-01\n",
      "  8.42361450e-02  6.43119812e-01  1.21833801e-01  1.77986145e-01\n",
      "  3.04939270e-01  1.85424805e-01  1.13137817e+00  3.44406128e-01\n",
      "  8.26805115e-01  5.38887024e-01  2.74307251e-01  6.29341125e-01\n",
      " -6.73446655e-02  9.63523865e-01  5.61965942e-01  2.34527588e-02\n",
      "  1.05522156e-01  9.38110352e-02  8.15734863e-02  2.92091370e-01\n",
      "  5.55046082e-01  6.69021606e-02  4.25109863e-02  9.00268555e-04\n",
      "  1.37527466e-01 -2.18017578e-01  7.01446533e-02  1.19796753e-01\n",
      "  1.92642212e-01 -3.82919312e-02  1.56036377e-01  7.12707520e-01\n",
      "  2.62313843e-01  5.34904480e-01  3.97834778e-01 -4.65087891e-02\n",
      "  2.43942261e-01  2.06283569e-01  2.80364990e-01 -1.28135681e-01\n",
      "  1.19476318e-01  3.83476257e-01  1.84318542e-01  7.28538513e-01\n",
      "  3.31787109e-01 -1.03187561e-01  2.39555359e-01  3.06060791e-01\n",
      "  6.63223267e-01  2.21328735e-02  1.59988403e-01  5.21621704e-01\n",
      " -4.34265137e-02  7.98316956e-01  2.21733093e-01  3.89915466e-01\n",
      " -5.64575195e-02  4.02351379e-01  2.34176636e-01  1.20391846e-01\n",
      "  3.05389404e-01  7.86186218e-01  3.32031250e-02  1.22537231e+00\n",
      "  8.94752502e-01  8.18634033e-02 -1.52282715e-02  1.71005249e-01\n",
      " -6.85272217e-02 -1.07833862e-01 -5.02014160e-02  2.98645020e-01\n",
      "  3.57124329e-01  9.57870483e-02  8.85337830e-01 -3.35845947e-02\n",
      "  5.99220276e-01  8.96301270e-02  9.83352661e-02  3.54072571e-01\n",
      "  2.36000061e-01 -6.73217773e-02  1.44256592e-01  4.17823792e-01\n",
      "  5.87364197e-01  2.16682434e-01 -3.32565308e-02  1.00620270e+00\n",
      "  4.25643921e-02 -1.73416138e-02  2.48229980e-01 -5.94482422e-02\n",
      "  2.22198486e-01 -7.19604492e-02  8.47549438e-02  7.13806152e-02\n",
      "  3.48129272e-02  4.43481445e-01  1.86691284e-01  1.83326721e-01\n",
      "  7.56454468e-02  1.36413574e-02  1.84608459e-01  2.32345581e-01\n",
      "  5.30639648e-01  1.60369873e-01  3.95347595e-01 -4.49829102e-02\n",
      "  8.39324951e-01  1.64794922e-02 -1.69906616e-02 -2.14233398e-02\n",
      "  1.46392822e-01  1.38206482e-01 -3.34777832e-02  4.14894104e-01\n",
      "  6.57333374e-01 -4.90570068e-03  2.86102295e-02  4.61044312e-02\n",
      " -7.21359253e-02  2.73765564e-01  5.28648376e-01 -5.90591431e-02\n",
      "  8.43200684e-01  3.25820923e-01  3.18939209e-01  3.64074707e-02\n",
      " -8.52432251e-02  2.83302307e-01  3.01414490e-01  1.37649536e-01\n",
      "  3.35754395e-01  4.12406921e-01  3.75259399e-01  1.24046326e-01\n",
      "  2.88047791e-01  9.06173706e-01  4.45442200e-01  2.74848938e-01\n",
      " -6.66809082e-03  6.91864014e-01  6.71859741e-01  1.15333557e-01\n",
      "  7.74482727e-01  9.94308472e-01  5.87646484e-01  3.14369202e-01\n",
      "  2.26409912e-01 -4.47998047e-02  2.25959778e-01  2.30567932e-01\n",
      "  3.54980469e-01 -1.26647949e-01  3.51715088e-02  1.82357788e-01\n",
      "  2.15301514e-01  1.76162720e-01 -2.96249390e-02  1.00041962e+00\n",
      "  1.88255310e-01  7.52098083e-01  6.19873047e-01  7.17842102e-01\n",
      "  3.15475464e-01  2.23846436e-02  3.26438904e-01 -6.93511963e-03\n",
      "  2.81463623e-01 -2.27050781e-02  7.99407959e-02 -2.33459473e-03\n",
      "  3.57177734e-01  1.36489868e-01  2.65724182e-01  1.40228271e-02\n",
      "  2.21084595e-01  7.07374573e-01  1.59393311e-01  2.04566956e-01\n",
      "  5.38223267e-01 -1.52542114e-01  2.54753113e-01  2.76412964e-01\n",
      "  2.64091492e-01  6.69708252e-02  9.74372864e-01  1.99996948e-01\n",
      "  7.55645752e-01 -3.49807739e-02  4.87648010e-01  5.84411621e-03\n",
      " -7.24563599e-02  3.05702209e-01 -2.05108643e-01  1.90948486e-01\n",
      " -2.46429443e-02 -7.71789551e-02  2.78930664e-01  7.84149170e-02\n",
      "  2.33871460e-01  4.44740295e-01  6.62231445e-02 -3.30886841e-02\n",
      "  5.83068848e-01  5.77621460e-02  3.20457458e-01  7.24243164e-01\n",
      "  1.35276794e-01 -2.22930908e-02  7.32963562e-01 -3.08334351e-01\n",
      "  1.09134674e+00  2.85942078e-01  8.85017395e-01  6.96487427e-01\n",
      "  5.85250854e-01 -2.22930908e-02  9.52087402e-01  7.15042114e-01\n",
      "  4.48631287e-01  5.80474854e-01  1.87080383e-01  2.29591370e-01\n",
      " -5.77621460e-02  3.15170288e-01  8.74725342e-01 -1.67083740e-02\n",
      "  2.52548218e-01 -3.35311890e-02 -4.40063477e-02  4.13894653e-02\n",
      "  2.35893250e-01  2.03010559e-01  8.81958008e-01  5.87226868e-01\n",
      "  1.20025635e-01 -2.02789307e-02 -1.92184448e-02  1.03408813e-01\n",
      "  8.35418701e-03  2.29240417e-01 -1.70135498e-02  7.14492798e-02\n",
      "  1.62673950e-01  1.69990540e-01  2.46528625e-01  1.47758484e-01\n",
      "  3.91738892e-01 -6.67190552e-02  1.15608215e-01  1.84471130e-01\n",
      "  9.05990601e-02 -1.80358887e-02  2.09312439e-01 -1.30233765e-02\n",
      "  5.46394348e-01  4.15794373e-01  1.78207397e-01  1.70898438e-02\n",
      "  4.93980408e-01  1.47117615e-01  5.24757385e-01  5.98114014e-01\n",
      "  3.08364868e-01  3.09272766e-01  4.46464539e-01  1.68197632e-01\n",
      "  2.60734558e-01  7.56278992e-01  4.06242371e-01  4.90768433e-01\n",
      "  5.14312744e-01 -1.30134583e-01  7.90405273e-02  3.50486755e-01\n",
      "  1.00456238e+00  2.73437500e-01  6.35353088e-01  5.78506470e-01\n",
      "  4.68254089e-01  3.79180908e-03  3.59046936e-01  6.73980713e-02\n",
      " -4.23736572e-02  7.03414917e-01  1.27227783e-01  8.00064087e-01\n",
      "  4.71000671e-01 -1.74713135e-02  2.92816162e-02  5.55221558e-01\n",
      "  5.00946045e-02  1.15242004e-01 -9.78088379e-03  1.47445679e-01\n",
      "  4.71252441e-01 -9.26055908e-02  8.09020996e-02  3.10134888e-02\n",
      "  3.94767761e-01  2.23747253e-01  1.00324249e+00  7.08038330e-01\n",
      "  3.55987549e-01  2.62947083e-01 -2.84423828e-02 -9.50622559e-03\n",
      "  3.09448242e-02  1.41700745e-01  7.81250000e-02  5.12519836e-01\n",
      "  2.04772949e-01  3.11607361e-01  5.28419495e-01  4.61929321e-01\n",
      "  5.35354614e-02  8.17153931e-01  5.33866882e-01 -1.38114929e-01\n",
      "  5.09475708e-01  1.94206238e-01  4.56298828e-01  1.85104370e-01\n",
      "  2.21984863e-01  1.15676880e-01  6.32476807e-02  7.36389160e-02\n",
      "  1.02516174e-01  5.51406860e-01  7.03063965e-01  5.22117615e-01\n",
      "  5.34851074e-01  3.19442749e-02  1.11244202e-01 -1.18560791e-01\n",
      "  5.31867981e-01 -1.74461365e-01  4.54452515e-01  9.74288940e-01\n",
      "  4.18220520e-01 -1.16058350e-01  8.70780945e-01  1.62193298e-01\n",
      "  6.13052368e-01  3.17169189e-01 -7.87277222e-02  4.93873596e-01\n",
      "  7.44796753e-01  6.06079102e-02  6.02569580e-02  2.36747742e-01\n",
      "  5.79269409e-01  1.10778809e-01  3.81736755e-01  6.02195740e-01\n",
      "  5.84411621e-02  2.21794128e-01  3.89038086e-01  6.63742065e-01\n",
      "  1.56120300e-01  3.97277832e-01  5.80169678e-01  5.03890991e-01\n",
      "  1.06468201e-01  1.49894714e-01  2.33299255e-01 -3.31115723e-03\n",
      " -2.86254883e-02  2.65899658e-01  2.60757446e-01 -6.17523193e-02\n",
      "  1.46194458e-01  8.24813843e-01  5.68420410e-01 -9.55505371e-02\n",
      " -1.02577209e-01  8.49761963e-02  1.61544800e-01 -7.92999268e-02\n",
      "  9.43916321e-01  7.94601440e-02  3.38508606e-01  1.57981873e-01\n",
      " -6.94046021e-02  2.15087891e-01  4.78904724e-01  2.14309692e-02\n",
      "  5.34385681e-01  1.42623901e-01 -1.58409119e-01  9.93347168e-03\n",
      "  2.26867676e-01  3.34640503e-01  6.03790283e-02 -2.09503174e-02\n",
      " -1.07879639e-01  3.34289551e-01  5.10192871e-01  3.45970154e-01\n",
      " -8.67462158e-02 -4.99191284e-02  5.05226135e-01  8.22067261e-02\n",
      "  6.74743652e-02  3.23173523e-01  3.38195801e-01  5.37322998e-01\n",
      "  2.91755676e-01  3.30558777e-01 -4.09469604e-02  8.27400208e-01\n",
      "  6.03469849e-01  2.36679077e-01  7.02316284e-01  4.44557190e-01\n",
      "  5.81192017e-01  1.90040588e-01  5.45196533e-02  9.37881470e-02\n",
      " -6.77413940e-02  1.05934143e-01 -2.49633789e-02 -2.94494629e-02\n",
      "  6.55822754e-02  9.60235596e-02  1.03202820e-01  1.77680969e-01\n",
      "  1.02218628e-01  6.64039612e-01  1.97669983e-01  1.04774475e-01\n",
      "  1.13304138e-01 -3.26004028e-02  1.46591187e-01  4.64866638e-01\n",
      "  7.55599976e-01  2.03819275e-01  4.90036011e-01 -1.01318359e-01\n",
      "  6.61766052e-01  7.53417969e-01  9.01100159e-01  7.72964478e-01\n",
      "  2.73384094e-01  2.98027039e-01  1.87042236e-01  7.19940186e-01\n",
      "  2.29759216e-01  3.34648132e-01  8.51615906e-01  3.07159424e-02\n",
      " -3.71551514e-03 -7.80563354e-02  7.49862671e-01  2.04727173e-01\n",
      "  4.06028748e-01  3.32359314e-01  1.81961060e-01  8.23448181e-01\n",
      "  5.03173828e-01  6.34078979e-01 -5.08575439e-02  4.24728394e-02\n",
      "  1.11122131e-01  1.89331055e-01  6.00929260e-01  4.09072876e-01\n",
      "  6.87644958e-01  2.89802551e-01 -9.21401978e-02  4.47387695e-02\n",
      "  1.98928833e-01  6.18766785e-01  1.41860962e-01  6.98898315e-01\n",
      "  3.11828613e-01  1.26800537e-01  8.11523438e-01  6.23703003e-02\n",
      " -1.04522705e-01  6.61163330e-02  1.23741150e-01  5.18714905e-01\n",
      " -5.97229004e-02  6.39778137e-01 -1.29776001e-02  3.83529663e-02\n",
      " -1.04934692e-01  1.96594238e-01  3.36143494e-01  4.87907410e-01\n",
      "  1.93855286e-01  7.93289185e-01  1.69303894e-01  8.55712891e-02\n",
      "  1.68624878e-01  1.73171997e-01  3.23638916e-02  4.69223022e-01\n",
      "  2.03147888e-01  8.46694946e-01  4.20745850e-01  2.17895508e-01\n",
      "  1.81106567e-01  1.54876709e-01  7.26249695e-01  4.45236206e-01\n",
      "  4.87472534e-01  1.01692200e-01  4.13093567e-01 -1.13288879e-01\n",
      "  1.79397583e-01 -9.72747803e-03  1.39076233e-01  1.12075806e-01\n",
      "  6.09580994e-01  2.15682983e-02  1.88339233e-01 -1.35360718e-01\n",
      "  7.06375122e-01  4.33151245e-01 -5.83267212e-02  9.28703308e-01\n",
      "  5.40687561e-01 -1.73187256e-03  9.19136047e-01 -2.18582153e-02\n",
      "  1.65374756e-01  1.77795410e-01  4.72846985e-01 -2.84576416e-03\n",
      "  4.00329590e-01  1.41601562e-02  1.95411682e-01 -6.79550171e-02\n",
      "  5.87303162e-01  1.92497253e-01  2.33283997e-01  2.73612976e-01\n",
      "  9.40643311e-01  7.10105896e-01  1.33377075e-01  7.36465454e-02\n",
      "  5.57632446e-02 -2.26425171e-01  4.11376953e-02  5.16967773e-02\n",
      "  3.08914185e-02  2.93556213e-01  9.69268799e-01  7.98614502e-01\n",
      " -2.29797363e-02  5.26275635e-02  2.64831543e-01  1.75041199e-01\n",
      "  7.06481934e-01  1.73851013e-01  3.44360352e-01]\n"
     ]
    }
   ],
   "source": [
    "# Use the predict method on the testing data\n",
    "predictions = LinearReg.predict(X_test)\n",
    "\n",
    "# Output the predictions\n",
    "print(predictions)"
   ]
  },
  {
   "cell_type": "code",
   "execution_count": 13,
   "id": "6497fa68",
   "metadata": {},
   "outputs": [
    {
     "name": "stdout",
     "output_type": "stream",
     "text": [
      "Mean Absolute Error (MAE): 0.2563166028670682\n",
      "Mean Squared Error (MSE): 0.1157226528826646\n",
      "R-squared (R²) Score: 0.4271218596766224\n"
     ]
    }
   ],
   "source": [
    "from sklearn.metrics import mean_absolute_error, mean_squared_error, r2_score\n",
    "# Calculate the Mean Absolute Error (MAE)\n",
    "mae = mean_absolute_error(Y_test, predictions)\n",
    "\n",
    "# Calculate the Mean Squared Error (MSE)\n",
    "mse = mean_squared_error(Y_test, predictions)\n",
    "\n",
    "# Calculate the R-squared (R²) score\n",
    "r2 = r2_score(Y_test, predictions)\n",
    "\n",
    "# Output the values of the metrics\n",
    "print(\"Mean Absolute Error (MAE):\", mae)\n",
    "print(\"Mean Squared Error (MSE):\", mse)\n",
    "print(\"R-squared (R²) Score:\", r2)"
   ]
  },
  {
   "cell_type": "code",
   "execution_count": 14,
   "id": "e8015cf0",
   "metadata": {},
   "outputs": [
    {
     "name": "stdout",
     "output_type": "stream",
     "text": [
      "                      Metric     Value\n",
      "0  Mean Absolute Error (MAE)  0.256317\n",
      "1   Mean Squared Error (MSE)  0.115723\n",
      "2       R-squared (R²) Score  0.427122\n"
     ]
    }
   ],
   "source": [
    "# Create a dictionary with the metrics\n",
    "metrics = {\n",
    "    'Metric': ['Mean Absolute Error (MAE)', 'Mean Squared Error (MSE)', 'R-squared (R²) Score'],\n",
    "    'Value': [mae, mse, r2]\n",
    "}\n",
    "\n",
    "# Create a DataFrame from the dictionary\n",
    "metrics_df = pd.DataFrame(metrics)\n",
    "\n",
    "# Display the DataFrame\n",
    "print(metrics_df)"
   ]
  },
  {
   "cell_type": "markdown",
   "id": "95ae4b7f",
   "metadata": {},
   "source": [
    "### KNN\n"
   ]
  },
  {
   "cell_type": "code",
   "execution_count": 15,
   "id": "b0010a80",
   "metadata": {},
   "outputs": [
    {
     "name": "stdout",
     "output_type": "stream",
     "text": [
      "KNN model trained with n_neighbors=4\n"
     ]
    }
   ],
   "source": [
    "# Create the KNN model with n_neighbors set to 4\n",
    "KNN = KNeighborsClassifier(n_neighbors=4)\n",
    "\n",
    "# Train the KNN model using the training data\n",
    "KNN.fit(X_train, Y_train)\n",
    "\n",
    "# Output the model to confirm training completion\n",
    "print(\"KNN model trained with n_neighbors=4\")\n"
   ]
  },
  {
   "cell_type": "code",
   "execution_count": 16,
   "id": "a7d0fd3a",
   "metadata": {},
   "outputs": [
    {
     "name": "stdout",
     "output_type": "stream",
     "text": [
      "[0. 0. 1. 0. 0. 0. 0. 1. 1. 0. 0. 0. 0. 0. 0. 0. 0. 0. 0. 0. 0. 1. 0. 0.\n",
      " 0. 0. 0. 0. 1. 0. 0. 0. 0. 0. 0. 1. 0. 0. 0. 0. 0. 1. 0. 0. 0. 0. 0. 0.\n",
      " 1. 0. 0. 0. 0. 0. 0. 0. 0. 0. 0. 0. 0. 0. 1. 1. 0. 0. 0. 0. 0. 0. 0. 0.\n",
      " 0. 0. 0. 0. 0. 0. 0. 1. 0. 0. 0. 0. 0. 0. 0. 0. 0. 0. 0. 0. 0. 0. 0. 1.\n",
      " 0. 1. 0. 0. 0. 0. 1. 0. 1. 1. 0. 0. 0. 1. 0. 0. 0. 0. 0. 0. 0. 0. 0. 0.\n",
      " 0. 0. 0. 0. 0. 0. 0. 0. 0. 1. 0. 0. 0. 0. 1. 0. 0. 0. 0. 1. 0. 0. 0. 0.\n",
      " 1. 0. 0. 0. 0. 1. 0. 0. 0. 0. 0. 0. 0. 1. 0. 1. 1. 0. 0. 0. 0. 0. 0. 0.\n",
      " 1. 0. 1. 0. 0. 0. 0. 0. 0. 0. 0. 0. 1. 0. 0. 1. 0. 0. 0. 0. 0. 0. 0. 0.\n",
      " 0. 0. 0. 0. 0. 0. 0. 0. 0. 0. 0. 0. 1. 0. 0. 0. 0. 0. 1. 1. 0. 0. 0. 0.\n",
      " 0. 0. 0. 0. 1. 0. 0. 0. 0. 0. 0. 0. 0. 0. 0. 0. 0. 1. 1. 0. 0. 1. 1. 0.\n",
      " 1. 1. 0. 0. 1. 0. 0. 0. 0. 0. 0. 0. 0. 0. 0. 1. 0. 1. 1. 1. 0. 0. 0. 0.\n",
      " 0. 0. 0. 0. 0. 0. 0. 0. 0. 1. 0. 0. 0. 0. 0. 0. 0. 0. 1. 0. 0. 0. 0. 0.\n",
      " 0. 0. 0. 0. 0. 0. 0. 0. 0. 1. 0. 0. 1. 0. 0. 0. 0. 0. 1. 0. 1. 0. 1. 1.\n",
      " 0. 0. 1. 0. 0. 0. 1. 0. 0. 1. 1. 0. 0. 0. 0. 0. 0. 0. 1. 0. 0. 0. 0. 0.\n",
      " 0. 0. 0. 0. 0. 0. 0. 0. 0. 0. 0. 0. 0. 0. 0. 0. 1. 0. 0. 0. 0. 0. 1. 1.\n",
      " 1. 0. 1. 0. 0. 1. 0. 0. 0. 0. 0. 0. 1. 0. 0. 1. 0. 0. 0. 0. 0. 0. 0. 1.\n",
      " 0. 0. 0. 1. 0. 0. 0. 0. 1. 0. 0. 0. 0. 0. 1. 1. 0. 0. 0. 0. 0. 0. 0. 0.\n",
      " 0. 0. 0. 1. 0. 1. 0. 0. 0. 0. 0. 0. 0. 0. 0. 0. 0. 1. 0. 0. 1. 0. 0. 0.\n",
      " 1. 0. 0. 1. 0. 0. 1. 0. 0. 0. 0. 0. 1. 0. 0. 0. 0. 0. 0. 1. 0. 0. 0. 0.\n",
      " 0. 0. 0. 0. 0. 1. 0. 0. 0. 0. 0. 0. 0. 1. 0. 0. 0. 0. 0. 0. 1. 0. 0. 0.\n",
      " 0. 0. 0. 0. 0. 0. 0. 0. 0. 0. 0. 0. 0. 0. 1. 0. 0. 0. 0. 0. 0. 0. 0. 0.\n",
      " 0. 0. 0. 1. 0. 0. 0. 0. 0. 0. 0. 0. 0. 0. 0. 0. 0. 0. 0. 0. 0. 1. 0. 0.\n",
      " 0. 0. 0. 0. 1. 0. 0. 0. 1. 1. 1. 1. 0. 0. 0. 1. 0. 0. 1. 0. 0. 0. 0. 0.\n",
      " 0. 0. 0. 1. 0. 1. 0. 0. 0. 0. 0. 0. 1. 0. 0. 0. 0. 1. 0. 0. 0. 0. 1. 0.\n",
      " 0. 0. 0. 0. 0. 0. 0. 0. 0. 0. 0. 0. 0. 1. 0. 0. 0. 0. 0. 0. 0. 1. 0. 0.\n",
      " 0. 0. 1. 0. 0. 0. 0. 0. 0. 0. 0. 0. 1. 0. 0. 0. 1. 0. 0. 1. 0. 0. 1. 0.\n",
      " 0. 0. 0. 0. 0. 0. 0. 0. 1. 0. 0. 0. 1. 1. 0. 0. 0. 0. 0. 0. 0. 0. 1. 1.\n",
      " 0. 0. 0. 0. 1. 0. 1.]\n"
     ]
    }
   ],
   "source": [
    "# Use the predict method on the testing data\n",
    "knn_predictions = KNN.predict(X_test)\n",
    "\n",
    "# Output the predictions\n",
    "print(knn_predictions)"
   ]
  },
  {
   "cell_type": "code",
   "execution_count": 17,
   "id": "b21b17d9",
   "metadata": {},
   "outputs": [
    {
     "name": "stdout",
     "output_type": "stream",
     "text": [
      "KNN Accuracy Score: 0.8183206106870229\n",
      "KNN Jaccard Index: 0.4251207729468599\n",
      "KNN F1 Score: 0.5966101694915255\n"
     ]
    }
   ],
   "source": [
    "KNN_Accuracy_Score = accuracy_score(Y_test, knn_predictions)\n",
    "KNN_JaccardIndex = jaccard_score(Y_test, knn_predictions)\n",
    "KNN_F1_Score = f1_score(Y_test, knn_predictions)\n",
    "\n",
    "print(\"KNN Accuracy Score:\", KNN_Accuracy_Score)\n",
    "print(\"KNN Jaccard Index:\", KNN_JaccardIndex)\n",
    "print(\"KNN F1 Score:\", KNN_F1_Score)"
   ]
  },
  {
   "cell_type": "markdown",
   "id": "58c10349",
   "metadata": {},
   "source": [
    "### Decision Tree\n"
   ]
  },
  {
   "cell_type": "code",
   "execution_count": 18,
   "id": "656437b4",
   "metadata": {},
   "outputs": [
    {
     "name": "stdout",
     "output_type": "stream",
     "text": [
      "Decision Tree model trained\n"
     ]
    }
   ],
   "source": [
    "Tree = DecisionTreeClassifier()\n",
    "\n",
    "# Train the Decision Tree model using the training data\n",
    "Tree.fit(X_train, Y_train)\n",
    "\n",
    "print(\"Decision Tree model trained\")"
   ]
  },
  {
   "cell_type": "code",
   "execution_count": 19,
   "id": "a87cbebc",
   "metadata": {},
   "outputs": [
    {
     "name": "stdout",
     "output_type": "stream",
     "text": [
      "Predictions for the Decision Tree model: [0. 0. 1. 0. 0. 1. 0. 1. 1. 1. 0. 0. 0. 0. 0. 0. 0. 1. 0. 0. 0. 1. 0. 0.\n",
      " 0. 1. 0. 0. 1. 0. 0. 0. 0. 0. 0. 1. 0. 0. 0. 0. 0. 0. 0. 0. 1. 1. 0. 0.\n",
      " 1. 0. 0. 0. 0. 0. 0. 0. 0. 0. 1. 0. 0. 0. 1. 1. 0. 0. 1. 0. 0. 0. 0. 0.\n",
      " 0. 0. 0. 0. 1. 0. 0. 1. 0. 0. 0. 0. 1. 0. 1. 1. 1. 0. 0. 0. 0. 0. 0. 1.\n",
      " 0. 1. 0. 0. 0. 0. 1. 0. 1. 1. 0. 1. 1. 1. 1. 0. 0. 0. 0. 1. 0. 1. 0. 0.\n",
      " 0. 0. 0. 0. 0. 0. 1. 1. 0. 1. 1. 0. 1. 0. 0. 0. 0. 0. 0. 1. 1. 0. 0. 0.\n",
      " 1. 0. 0. 0. 0. 0. 0. 1. 0. 0. 0. 0. 0. 1. 0. 1. 1. 0. 0. 0. 0. 0. 0. 0.\n",
      " 0. 0. 1. 0. 0. 0. 0. 1. 0. 0. 0. 0. 1. 0. 0. 1. 0. 0. 0. 0. 0. 0. 0. 1.\n",
      " 0. 0. 0. 0. 0. 0. 0. 0. 1. 0. 0. 0. 1. 0. 0. 0. 0. 1. 0. 0. 1. 0. 0. 0.\n",
      " 0. 0. 1. 0. 1. 0. 0. 0. 0. 1. 1. 0. 0. 1. 0. 0. 1. 1. 1. 0. 0. 1. 1. 0.\n",
      " 1. 1. 0. 0. 0. 0. 1. 0. 0. 1. 0. 0. 0. 1. 0. 1. 1. 0. 1. 1. 1. 0. 0. 0.\n",
      " 0. 0. 0. 0. 1. 0. 0. 0. 0. 1. 1. 0. 1. 0. 0. 0. 0. 0. 1. 0. 1. 0. 0. 0.\n",
      " 0. 0. 0. 0. 0. 0. 0. 0. 0. 1. 0. 1. 1. 0. 0. 0. 0. 0. 1. 0. 1. 0. 1. 1.\n",
      " 0. 0. 1. 1. 1. 0. 0. 1. 0. 0. 1. 0. 0. 0. 0. 0. 0. 1. 1. 0. 0. 0. 0. 0.\n",
      " 0. 1. 0. 0. 0. 0. 0. 0. 0. 0. 0. 0. 0. 0. 0. 0. 1. 0. 0. 0. 0. 0. 1. 0.\n",
      " 0. 0. 0. 1. 1. 1. 1. 0. 0. 1. 1. 0. 1. 1. 0. 1. 0. 0. 0. 0. 0. 1. 0. 1.\n",
      " 0. 0. 0. 0. 0. 0. 0. 0. 1. 0. 0. 0. 1. 0. 1. 1. 0. 1. 0. 1. 0. 0. 0. 0.\n",
      " 0. 0. 1. 0. 0. 1. 0. 0. 0. 0. 1. 0. 0. 0. 0. 0. 0. 1. 1. 0. 1. 0. 0. 0.\n",
      " 0. 0. 1. 0. 0. 0. 1. 0. 1. 0. 0. 1. 1. 0. 0. 0. 1. 1. 0. 0. 0. 0. 0. 0.\n",
      " 1. 0. 1. 0. 0. 0. 0. 0. 0. 0. 0. 0. 0. 1. 0. 0. 0. 1. 1. 0. 1. 0. 1. 0.\n",
      " 1. 0. 0. 0. 0. 0. 0. 0. 0. 0. 0. 0. 0. 0. 1. 0. 0. 0. 1. 0. 0. 1. 1. 1.\n",
      " 0. 0. 0. 1. 1. 0. 0. 0. 0. 1. 1. 0. 0. 0. 0. 0. 0. 0. 1. 0. 0. 1. 0. 0.\n",
      " 0. 0. 0. 0. 1. 1. 0. 0. 1. 0. 1. 1. 0. 1. 0. 1. 0. 1. 1. 1. 0. 0. 0. 0.\n",
      " 0. 0. 1. 1. 0. 0. 0. 0. 0. 1. 1. 1. 1. 0. 0. 0. 0. 1. 0. 0. 0. 0. 1. 0.\n",
      " 0. 0. 0. 0. 0. 1. 0. 0. 0. 0. 1. 0. 0. 1. 0. 0. 0. 0. 0. 0. 0. 1. 1. 0.\n",
      " 0. 0. 1. 0. 0. 0. 1. 0. 1. 0. 0. 0. 1. 0. 1. 0. 1. 0. 0. 1. 1. 0. 1. 0.\n",
      " 0. 0. 1. 0. 0. 0. 0. 0. 1. 0. 0. 0. 1. 1. 1. 1. 0. 0. 0. 0. 0. 0. 1. 1.\n",
      " 0. 0. 0. 0. 1. 0. 0.]\n"
     ]
    }
   ],
   "source": [
    "predictions = Tree.predict(X_test)\n",
    "\n",
    "print(\"Predictions for the Decision Tree model:\", predictions)"
   ]
  },
  {
   "cell_type": "code",
   "execution_count": 20,
   "id": "363b096a",
   "metadata": {},
   "outputs": [
    {
     "name": "stdout",
     "output_type": "stream",
     "text": [
      "Tree Accuracy Score: 0.7465648854961832\n",
      "Tree Jaccard Index: 0.3828996282527881\n",
      "Tree F1 Score: 0.5537634408602151\n"
     ]
    }
   ],
   "source": [
    "Tree_Accuracy_Score = accuracy_score(Y_test, predictions)\n",
    "Tree_JaccardIndex = jaccard_score(Y_test, predictions)\n",
    "Tree_F1_Score = f1_score(Y_test, predictions)\n",
    "\n",
    "print(\"Tree Accuracy Score:\", Tree_Accuracy_Score)\n",
    "print(\"Tree Jaccard Index:\", Tree_JaccardIndex)\n",
    "print(\"Tree F1 Score:\", Tree_F1_Score)"
   ]
  },
  {
   "cell_type": "markdown",
   "id": "88e2e2f9",
   "metadata": {},
   "source": [
    "### Logistic Regression\n"
   ]
  },
  {
   "cell_type": "code",
   "execution_count": 21,
   "id": "3bce0ab4",
   "metadata": {},
   "outputs": [
    {
     "name": "stdout",
     "output_type": "stream",
     "text": [
      "Training and testing data split completed\n"
     ]
    }
   ],
   "source": [
    "x_train, x_test, y_train, y_test = train_test_split(features, Y, test_size=0.2, random_state=1)\n",
    "\n",
    "print(\"Training and testing data split completed\")"
   ]
  },
  {
   "cell_type": "code",
   "execution_count": 22,
   "id": "a48da1a4",
   "metadata": {},
   "outputs": [
    {
     "name": "stdout",
     "output_type": "stream",
     "text": [
      "Logistic Regression model trained\n"
     ]
    }
   ],
   "source": [
    "LR = LogisticRegression(solver='liblinear')\n",
    "\n",
    "# Train the Logistic Regression model using the training data\n",
    "LR.fit(x_train, y_train)\n",
    "\n",
    "print(\"Logistic Regression model trained\")"
   ]
  },
  {
   "cell_type": "code",
   "execution_count": 23,
   "id": "b2da1940",
   "metadata": {},
   "outputs": [
    {
     "name": "stdout",
     "output_type": "stream",
     "text": [
      "Predictions for Logistic Regression model: [0. 0. 0. 0. 0. 1. 0. 0. 0. 0. 1. 1. 0. 0. 0. 0. 1. 0. 0. 0. 1. 1. 0. 0.\n",
      " 0. 0. 0. 0. 0. 0. 0. 0. 0. 1. 1. 1. 1. 0. 1. 0. 0. 0. 0. 0. 0. 0. 0. 0.\n",
      " 0. 0. 1. 0. 1. 0. 1. 1. 0. 0. 0. 0. 0. 0. 0. 0. 0. 0. 0. 0. 0. 0. 0. 1.\n",
      " 0. 0. 0. 0. 0. 0. 0. 0. 0. 0. 0. 0. 1. 0. 0. 0. 1. 0. 0. 1. 0. 0. 1. 0.\n",
      " 0. 0. 0. 0. 0. 1. 0. 1. 1. 0. 0. 0. 0. 0. 0. 0. 1. 1. 0. 0. 1. 0. 0. 0.\n",
      " 1. 0. 0. 0. 0. 0. 0. 0. 0. 0. 0. 0. 0. 0. 1. 1. 0. 0. 0. 1. 0. 1. 0. 0.\n",
      " 0. 1. 0. 1. 1. 0. 0. 0. 1. 0. 0. 1. 0. 0. 1. 0. 1. 0. 1. 1. 0. 0. 0. 0.\n",
      " 0. 0. 0. 0. 0. 1. 0. 0. 0. 0. 0. 1. 1. 0. 0. 0. 1. 1. 0. 0. 0. 0. 0. 0.\n",
      " 1. 0. 0. 1. 0. 1. 0. 0. 0. 0. 0. 0. 0. 1. 1. 0. 0. 1. 0. 0. 0. 1. 0. 0.\n",
      " 0. 1. 0. 0. 0. 1. 0. 1. 1. 0. 0. 0. 0. 0. 1. 1. 0. 0. 0. 0. 0. 0. 0. 1.\n",
      " 0. 0. 1. 0. 0. 0. 1. 1. 1. 0. 0. 0. 0. 0. 1. 0. 0. 0. 0. 1. 1. 1. 0. 0.\n",
      " 0. 0. 0. 0. 0. 0. 0. 0. 0. 0. 0. 0. 0. 0. 1. 0. 0. 0. 1. 1. 1. 0. 0. 0.\n",
      " 0. 1. 1. 0. 0. 0. 0. 1. 0. 0. 0. 0. 1. 0. 0. 0. 0. 1. 1. 0. 0. 0. 1. 0.\n",
      " 0. 0. 0. 1. 0. 0. 0. 0. 0. 0. 0. 0. 0. 1. 0. 0. 1. 1. 0. 0. 1. 0. 0. 0.\n",
      " 0. 0. 0. 0. 1. 1. 0. 0. 1. 1. 1. 0. 1. 0. 0. 1. 0. 0. 0. 0. 0. 0. 0. 0.\n",
      " 0. 0. 0. 0. 0. 1. 0. 0. 0. 0. 0. 0. 0. 0. 0. 1. 0. 0. 1. 0. 0. 0. 0. 0.\n",
      " 0. 0. 0. 0. 1. 1. 0. 0. 0. 0. 0. 0. 1. 0. 0. 0. 0. 0. 0. 0. 0. 0. 0. 0.\n",
      " 0. 0. 0. 0. 0. 0. 0. 0. 0. 0. 0. 0. 0. 0. 0. 0. 0. 0. 0. 0. 0. 0. 0. 0.\n",
      " 1. 1. 0. 0. 0. 0. 0. 0. 1. 1. 1. 0. 0. 0. 1. 0. 1. 0. 0. 0. 0. 1. 0. 0.\n",
      " 0. 0. 0. 0. 1. 0. 0. 1. 1. 0. 0. 1. 0. 0. 0. 0. 0. 1. 0. 0. 1. 0. 0. 0.\n",
      " 0. 0. 0. 0. 0. 0. 1. 0. 0. 1. 1. 0. 1. 0. 0. 0. 0. 0. 1. 0. 0. 1. 0. 0.\n",
      " 0. 0. 0. 0. 1. 0. 0. 0. 0. 0. 0. 1. 0. 0. 1. 0. 0. 0. 0. 0. 0. 0. 0. 0.\n",
      " 0. 0. 0. 0. 0. 0. 1. 0. 1. 0. 0. 1. 0. 0. 0. 0. 0. 1. 0. 0. 0. 0. 0. 0.\n",
      " 0. 0. 1. 0. 0. 0. 0. 0. 0. 0. 1. 1. 0. 0. 0. 0. 0. 0. 0. 1. 1. 0. 0. 0.\n",
      " 0. 0. 0. 0. 0. 0. 0. 1. 0. 1. 0. 0. 0. 0. 1. 0. 0. 0. 0. 0. 0. 0. 1. 1.\n",
      " 0. 0. 1. 0. 0. 0. 0. 0. 0. 0. 0. 0. 0. 0. 0. 0. 1. 0. 0. 0. 0. 1. 0. 1.\n",
      " 0. 0. 1. 0. 0. 0. 0. 1. 0. 0. 1. 1. 0. 0. 0. 1. 0. 1. 0. 0. 1. 0. 0. 0.\n",
      " 1. 0. 1. 0. 0. 0. 1.]\n",
      "Prediction probabilities for Logistic Regression model: [[0.73903349 0.26096651]\n",
      " [0.97513913 0.02486087]\n",
      " [0.5185268  0.4814732 ]\n",
      " ...\n",
      " [0.97945273 0.02054727]\n",
      " [0.69783926 0.30216074]\n",
      " [0.22004054 0.77995946]]\n"
     ]
    }
   ],
   "source": [
    "predictions = LR.predict(x_test)\n",
    "predict_proba = LR.predict_proba(x_test)\n",
    "\n",
    "print(\"Predictions for Logistic Regression model:\", predictions)\n",
    "print(\"Prediction probabilities for Logistic Regression model:\", predict_proba)"
   ]
  },
  {
   "cell_type": "code",
   "execution_count": 24,
   "id": "f3728e69",
   "metadata": {},
   "outputs": [
    {
     "name": "stdout",
     "output_type": "stream",
     "text": [
      "LR Accuracy Score: 0.8366412213740458\n",
      "LR Jaccard Index: 0.5091743119266054\n",
      "LR F1 Score: 0.6747720364741641\n",
      "LR Log Loss: 0.380547713751537\n"
     ]
    }
   ],
   "source": [
    "LR_Accuracy_Score = accuracy_score(y_test, predictions)\n",
    "LR_JaccardIndex = jaccard_score(y_test, predictions)\n",
    "LR_F1_Score = f1_score(y_test, predictions)\n",
    "LR_Log_Loss = log_loss(y_test, predict_proba)\n",
    "\n",
    "print(\"LR Accuracy Score:\", LR_Accuracy_Score)\n",
    "print(\"LR Jaccard Index:\", LR_JaccardIndex)\n",
    "print(\"LR F1 Score:\", LR_F1_Score)\n",
    "print(\"LR Log Loss:\", LR_Log_Loss)"
   ]
  },
  {
   "cell_type": "markdown",
   "id": "5dbe58cc",
   "metadata": {},
   "source": [
    "### SVM\n"
   ]
  },
  {
   "cell_type": "code",
   "execution_count": 25,
   "id": "cfdc655e",
   "metadata": {},
   "outputs": [
    {
     "name": "stdout",
     "output_type": "stream",
     "text": [
      "SVM model trained\n"
     ]
    }
   ],
   "source": [
    "SVM = svm.SVC()\n",
    "\n",
    "# Train the SVM model using the training data\n",
    "SVM.fit(x_train, y_train)\n",
    "\n",
    "print(\"SVM model trained\")"
   ]
  },
  {
   "cell_type": "code",
   "execution_count": 26,
   "id": "2c9264ce",
   "metadata": {},
   "outputs": [
    {
     "name": "stdout",
     "output_type": "stream",
     "text": [
      "Predictions for SVM model: [0. 0. 0. 0. 0. 0. 0. 0. 0. 0. 0. 0. 0. 0. 0. 0. 0. 0. 0. 0. 0. 0. 0. 0.\n",
      " 0. 0. 0. 0. 0. 0. 0. 0. 0. 0. 0. 0. 0. 0. 0. 0. 0. 0. 0. 0. 0. 0. 0. 0.\n",
      " 0. 0. 0. 0. 0. 0. 0. 0. 0. 0. 0. 0. 0. 0. 0. 0. 0. 0. 0. 0. 0. 0. 0. 0.\n",
      " 0. 0. 0. 0. 0. 0. 0. 0. 0. 0. 0. 0. 0. 0. 0. 0. 0. 0. 0. 0. 0. 0. 0. 0.\n",
      " 0. 0. 0. 0. 0. 0. 0. 0. 0. 0. 0. 0. 0. 0. 0. 0. 0. 0. 0. 0. 0. 0. 0. 0.\n",
      " 0. 0. 0. 0. 0. 0. 0. 0. 0. 0. 0. 0. 0. 0. 0. 0. 0. 0. 0. 0. 0. 0. 0. 0.\n",
      " 0. 0. 0. 0. 0. 0. 0. 0. 0. 0. 0. 0. 0. 0. 0. 0. 0. 0. 0. 0. 0. 0. 0. 0.\n",
      " 0. 0. 0. 0. 0. 0. 0. 0. 0. 0. 0. 0. 0. 0. 0. 0. 0. 0. 0. 0. 0. 0. 0. 0.\n",
      " 0. 0. 0. 0. 0. 0. 0. 0. 0. 0. 0. 0. 0. 0. 0. 0. 0. 0. 0. 0. 0. 0. 0. 0.\n",
      " 0. 0. 0. 0. 0. 0. 0. 0. 0. 0. 0. 0. 0. 0. 0. 0. 0. 0. 0. 0. 0. 0. 0. 0.\n",
      " 0. 0. 0. 0. 0. 0. 0. 0. 0. 0. 0. 0. 0. 0. 0. 0. 0. 0. 0. 0. 0. 0. 0. 0.\n",
      " 0. 0. 0. 0. 0. 0. 0. 0. 0. 0. 0. 0. 0. 0. 0. 0. 0. 0. 0. 0. 0. 0. 0. 0.\n",
      " 0. 0. 0. 0. 0. 0. 0. 0. 0. 0. 0. 0. 0. 0. 0. 0. 0. 0. 0. 0. 0. 0. 0. 0.\n",
      " 0. 0. 0. 0. 0. 0. 0. 0. 0. 0. 0. 0. 0. 0. 0. 0. 0. 0. 0. 0. 0. 0. 0. 0.\n",
      " 0. 0. 0. 0. 0. 0. 0. 0. 0. 0. 0. 0. 0. 0. 0. 0. 0. 0. 0. 0. 0. 0. 0. 0.\n",
      " 0. 0. 0. 0. 0. 0. 0. 0. 0. 0. 0. 0. 0. 0. 0. 0. 0. 0. 0. 0. 0. 0. 0. 0.\n",
      " 0. 0. 0. 0. 0. 0. 0. 0. 0. 0. 0. 0. 0. 0. 0. 0. 0. 0. 0. 0. 0. 0. 0. 0.\n",
      " 0. 0. 0. 0. 0. 0. 0. 0. 0. 0. 0. 0. 0. 0. 0. 0. 0. 0. 0. 0. 0. 0. 0. 0.\n",
      " 0. 0. 0. 0. 0. 0. 0. 0. 0. 0. 0. 0. 0. 0. 0. 0. 0. 0. 0. 0. 0. 0. 0. 0.\n",
      " 0. 0. 0. 0. 0. 0. 0. 0. 0. 0. 0. 0. 0. 0. 0. 0. 0. 0. 0. 0. 0. 0. 0. 0.\n",
      " 0. 0. 0. 0. 0. 0. 0. 0. 0. 0. 0. 0. 0. 0. 0. 0. 0. 0. 0. 0. 0. 0. 0. 0.\n",
      " 0. 0. 0. 0. 0. 0. 0. 0. 0. 0. 0. 0. 0. 0. 0. 0. 0. 0. 0. 0. 0. 0. 0. 0.\n",
      " 0. 0. 0. 0. 0. 0. 0. 0. 0. 0. 0. 0. 0. 0. 0. 0. 0. 0. 0. 0. 0. 0. 0. 0.\n",
      " 0. 0. 0. 0. 0. 0. 0. 0. 0. 0. 0. 0. 0. 0. 0. 0. 0. 0. 0. 0. 0. 0. 0. 0.\n",
      " 0. 0. 0. 0. 0. 0. 0. 0. 0. 0. 0. 0. 0. 0. 0. 0. 0. 0. 0. 0. 0. 0. 0. 0.\n",
      " 0. 0. 0. 0. 0. 0. 0. 0. 0. 0. 0. 0. 0. 0. 0. 0. 0. 0. 0. 0. 0. 0. 0. 0.\n",
      " 0. 0. 0. 0. 0. 0. 0. 0. 0. 0. 0. 0. 0. 0. 0. 0. 0. 0. 0. 0. 0. 0. 0. 0.\n",
      " 0. 0. 0. 0. 0. 0. 0.]\n"
     ]
    }
   ],
   "source": [
    "predictions = SVM.predict(x_test)\n",
    "\n",
    "print(\"Predictions for SVM model:\", predictions)"
   ]
  },
  {
   "cell_type": "code",
   "execution_count": 27,
   "id": "8394c18b",
   "metadata": {},
   "outputs": [
    {
     "name": "stdout",
     "output_type": "stream",
     "text": [
      "SVM Accuracy Score: 0.7221374045801526\n",
      "SVM Jaccard Index: 0.0\n",
      "SVM F1 Score: 0.0\n"
     ]
    }
   ],
   "source": [
    "SVM_Accuracy_Score = accuracy_score(y_test, predictions)\n",
    "SVM_JaccardIndex = jaccard_score(y_test, predictions)\n",
    "SVM_F1_Score = f1_score(y_test, predictions)\n",
    "\n",
    "print(\"SVM Accuracy Score:\", SVM_Accuracy_Score)\n",
    "print(\"SVM Jaccard Index:\", SVM_JaccardIndex)\n",
    "print(\"SVM F1 Score:\", SVM_F1_Score)"
   ]
  },
  {
   "cell_type": "markdown",
   "id": "8a076534",
   "metadata": {},
   "source": [
    "#### Show the Accuracy,Jaccard Index,F1-Score and LogLoss in a tabular format using data frame for all of the above models."
   ]
  },
  {
   "cell_type": "code",
   "execution_count": 30,
   "id": "84dc6e3a",
   "metadata": {},
   "outputs": [
    {
     "name": "stdout",
     "output_type": "stream",
     "text": [
      "                 Model  Accuracy  Jaccard Index  F1-Score   LogLoss\n",
      "0    Linear Regression  0.427122       0.000000  0.000000  0.000000\n",
      "1                  KNN  0.818321       0.425121  0.596610  0.000000\n",
      "2        Decision Tree  0.746565       0.382900  0.553763  0.000000\n",
      "3  Logistic Regression  0.836641       0.509174  0.674772  0.380548\n",
      "4                  SVM  0.722137       0.000000  0.000000  0.000000\n"
     ]
    }
   ],
   "source": [
    "# Create a dictionary with the metrics for all models\n",
    "metrics_data = {\n",
    "    'Model': ['Linear Regression', 'KNN', 'Decision Tree', 'Logistic Regression', 'SVM'],\n",
    "    'Accuracy': [r2, KNN_Accuracy_Score, Tree_Accuracy_Score, LR_Accuracy_Score, SVM_Accuracy_Score],\n",
    "    'Jaccard Index': [0, KNN_JaccardIndex, Tree_JaccardIndex, LR_JaccardIndex, SVM_JaccardIndex],\n",
    "    'F1-Score': [0, KNN_F1_Score, Tree_F1_Score, LR_F1_Score, SVM_F1_Score],\n",
    "    'LogLoss': [0, 0, 0, LR_Log_Loss, 0]\n",
    "}\n",
    "\n",
    "# Create a DataFrame from the dictionary\n",
    "Report = pd.DataFrame(metrics_data)\n",
    "\n",
    "# Display the DataFrame\n",
    "print(Report)"
   ]
  },
  {
   "cell_type": "code",
   "execution_count": null,
   "id": "7c138e56",
   "metadata": {},
   "outputs": [],
   "source": []
  }
 ],
 "metadata": {
  "kernelspec": {
   "display_name": "Python 3 (ipykernel)",
   "language": "python",
   "name": "python3"
  },
  "language_info": {
   "codemirror_mode": {
    "name": "ipython",
    "version": 3
   },
   "file_extension": ".py",
   "mimetype": "text/x-python",
   "name": "python",
   "nbconvert_exporter": "python",
   "pygments_lexer": "ipython3",
   "version": "3.9.7"
  }
 },
 "nbformat": 4,
 "nbformat_minor": 5
}
